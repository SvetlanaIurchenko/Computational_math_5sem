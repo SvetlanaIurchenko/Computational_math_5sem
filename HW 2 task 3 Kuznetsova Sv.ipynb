{
 "cells": [
  {
   "cell_type": "markdown",
   "id": "annual-oklahoma",
   "metadata": {},
   "source": [
    "### Домашнее задание 2 Кузнецова Светлана Б06-905 Вариант 26"
   ]
  },
  {
   "cell_type": "markdown",
   "id": "pleased-consciousness",
   "metadata": {},
   "source": [
    "### Задача 3"
   ]
  },
  {
   "cell_type": "code",
   "execution_count": 1,
   "id": "impressive-influence",
   "metadata": {},
   "outputs": [],
   "source": [
    "#импорт необходимых библиотек\n",
    "import math \n",
    "import numpy as np #операции из линейной алгебры\n",
    "import pandas as pd #таблицы\n",
    "import matplotlib.pyplot as plt #графики\n",
    "import scipy\n",
    "from scipy import special as sci #для точного решения Бесселя\n",
    "\n",
    "plt.style.use('seaborn')"
   ]
  },
  {
   "cell_type": "markdown",
   "id": "balanced-segment",
   "metadata": {},
   "source": [
    "Уравнение колебания маятника с затуханием: \n",
    "\n",
    "$$\\frac{d^{2}x}{dt^{2}} + {\\varepsilon}\\frac{dx}{dt}+\\sin{x} = 0$$\n",
    "\n",
    "A. Переписать уравнение в виде системы двух уравнений первого порядка. Найти особые точки этой системы, определить их тип.\n",
    "\n",
    "Б. Найти численно негрубую траекторию, соединяющую две особые точки. В чем трудность решения подобной задачи? Как следует переформулировать задачу? Может ли быть время движения изображающей точки по этой сепаратриссе конечным? Что можно утверждать про устойчивость методов Рунге-Кутты для решения данной задачи?"
   ]
  },
  {
   "cell_type": "markdown",
   "id": "later-bahamas",
   "metadata": {},
   "source": [
    "#### Перепишем в виде системы 2-х уравнений 1 порядка:\n",
    "\n",
    "\\begin{cases}\n",
    "   \\frac{dx}{dt} = y\\\\\n",
    "   \\frac{dy}{dt} = -{\\varepsilon}y - \\sin{x}\n",
    "\\end{cases}\n",
    "\n"
   ]
  },
  {
   "cell_type": "markdown",
   "id": "freelance-gather",
   "metadata": {},
   "source": [
    "#### Найдем особые точки. В особых точках фазовые скорости равны 0:\n",
    "$$ y = 0 $$\n",
    "$$ εy+sinx = 0 $$"
   ]
  },
  {
   "cell_type": "markdown",
   "id": "sought-criticism",
   "metadata": {},
   "source": [
    "Из системы получаем, что множество особых точек имеет вид:\n",
    " $$ (x,y) : x = \\pi \\cdot n;  y = 0 ,  n \\in Z $$"
   ]
  },
  {
   "cell_type": "markdown",
   "id": "friendly-italic",
   "metadata": {},
   "source": [
    "#### Для определения характера особых точек, линеаризуем систему в окрестности положения равновесия:\n",
    " $$ \\frac{dx}{dt} = -y $$\n",
    " $$ \\frac{dy}{dt} = y + (-1)^n * (x-\\pi*n) $$"
   ]
  },
  {
   "cell_type": "markdown",
   "id": "empirical-encyclopedia",
   "metadata": {},
   "source": [
    "В матричном виде:\n",
    "\\begin{equation}\n",
    "    \\begin{pmatrix} \\frac{dx}{dt} \\\\ \\frac{dy}{dt} \\end{pmatrix} = \\begin{pmatrix}\n",
    "0 & -1 \\\\\n",
    "(-1)^{n} & {\\varepsilon}\n",
    "\\end{pmatrix} \\begin{pmatrix} x \\\\ y \\end{pmatrix}\n",
    "\\end{equation}"
   ]
  },
  {
   "cell_type": "markdown",
   "id": "underlying-novel",
   "metadata": {},
   "source": [
    "#### Собственные числа матрицы (положим $\\varepsilon = 0.01$ ) для чётных n имеют вид \n",
    "$$\\lambda_{1} = 0.005+0.999987i$$\n",
    "$$\\lambda_{2} = 0.005-0.999987i$$"
   ]
  },
  {
   "cell_type": "markdown",
   "id": "contrary-broadcasting",
   "metadata": {},
   "source": [
    "#### Для численного решения системы ОДУ реализуем ЯМРК 4 порядка аппроксимации:"
   ]
  },
  {
   "cell_type": "code",
   "execution_count": 2,
   "id": "sufficient-potato",
   "metadata": {},
   "outputs": [],
   "source": [
    "def runge_kutta_4(start, stop, step, v_0, w_0, der_v, der_w):\n",
    "    t = [start]\n",
    "    solution_v = [v_0]\n",
    "    solution_w = [w_0]\n",
    "    if start < stop and step > 0:\n",
    "        while stop > t[-1]:\n",
    "            k_1_v = der_v(t[-1], solution_v[-1], solution_w[-1])\n",
    "            k_1_w = der_w(t[-1], solution_v[-1], solution_w[-1])\n",
    "            k_2_v = der_v(t[-1] + step/2, solution_v[-1]+step/2*k_1_v, \n",
    "                         solution_w[-1] +step/2 * k_1_w)\n",
    "            k_2_w = der_w(t[-1]+step/2, solution_v[-1] + step/2*k_1_v, \n",
    "                         solution_w[-1] + step/2 * k_1_w)\n",
    "            k_3_v = der_v(t[-1]+step/2, solution_v[-1] + step/2*k_2_v,\n",
    "                         solution_w[-1] + step/2*k_2_w)\n",
    "            k_3_w = der_w(t[-1] + step/2, solution_v[-1] + step/2 * k_2_v,\n",
    "                         solution_w[-1] + step/2 * k_2_w)\n",
    "            k_4_v = der_v(t[-1] + step, solution_v[-1] + step * k_3_v, solution_w[-1] +\n",
    "                          step * k_3_w)\n",
    "            k_4_w = der_w(t[-1] + step, solution_v[-1] + step * k_3_v, solution_w[-1] +\n",
    "                          step * k_3_w)\n",
    "            solution_v.append(solution_v[-1] + step/6 * (k_1_v + 2 * k_2_v + 2 * k_3_v + k_4_v))\n",
    "            solution_w.append(solution_w[-1] + step/6 * (k_1_w + 2 * k_2_w + 2 * k_3_w + k_4_w))\n",
    "            t.append(t[-1] + step)\n",
    "    elif start > stop and step < 0:\n",
    "        while stop < t[-1]:\n",
    "            k_1_v = der_v(t[-1], solution_v[-1], solution_w[-1])\n",
    "            k_1_w = der_w(t[-1], solution_v[-1], solution_w[-1])\n",
    "            k_2_v = der_v(t[-1] + step/2, solution_v[-1] + step/2 * k_1_v, solution_w[-1] + \n",
    "                          step/2 * k_1_w)\n",
    "            k_2_w = der_w(t[-1] + step/2, solution_v[-1] + step/2 * k_1_v, solution_w[-1] + \n",
    "                          step/2 * k_1_w)\n",
    "            k_3_v = der_v(t[-1] + step/2, solution_v[-1] + step/2 * k_2_v, solution_w[-1] + \n",
    "                          step/2 * k_2_w)\n",
    "            k_3_w = der_w(t[-1] + step/2, solution_v[-1] + step/2 * k_2_v, solution_w[-1] + \n",
    "                          step/2 * k_2_w)\n",
    "            k_4_v = der_v(t[-1] + step, solution_v[-1] + step * k_3_v, solution_w[-1] + step * k_3_w)\n",
    "            k_4_w = der_w(t[-1] + step, solution_v[-1] + step * k_3_v, solution_w[-1] + step * k_3_w)\n",
    "            solution_v.append(solution_v[-1] + step/6 * (k_1_v + 2 * k_2_v + 2 * k_3_v + k_4_v))\n",
    "            solution_w.append(solution_w[-1] + step/6 * (k_1_w + 2 * k_2_w + 2 * k_3_w + k_4_w))\n",
    "            t.append(t[-1] + step)\n",
    "    else:\n",
    "        print('В этом направлении двигаться невозможно')\n",
    "    return(t, solution_v, solution_w)                         "
   ]
  },
  {
   "cell_type": "markdown",
   "id": "fiscal-today",
   "metadata": {},
   "source": [
    "#### Для получения траектории, соединяющей особые точки, неоходимо начать движение в области неустойчивости седла и попасть в сферу притяжения фокуса или действия другого седла. Сепаратриса седла переходит в закручивающуюся спираль фркуса, однако \"сесть\" на неё практически невозможно.\n"
   ]
  },
  {
   "cell_type": "code",
   "execution_count": 3,
   "id": "meaningful-breathing",
   "metadata": {},
   "outputs": [],
   "source": [
    "def xdot(t, x, y):\n",
    "    return(-y) \n",
    "def ydot(t, x, y):\n",
    "    return(0.01 * y + math.sin(x))"
   ]
  },
  {
   "cell_type": "code",
   "execution_count": 4,
   "id": "employed-annual",
   "metadata": {},
   "outputs": [],
   "source": [
    "solution_runge_kutta_4 = runge_kutta_4(0,10,0.1,math.pi - 0.6, 0.01, xdot, ydot)\n",
    "solution_runge_kutta_4_2 = runge_kutta_4(0, 10, 0.01, 0.3, 0.3, xdot, ydot)"
   ]
  },
  {
   "cell_type": "code",
   "execution_count": 5,
   "id": "southeast-connection",
   "metadata": {},
   "outputs": [
    {
     "data": {
      "image/png": "[encoded data removed]",
      "text/plain": [
       "<Figure size 576x396 with 1 Axes>"
      ]
     },
     "metadata": {},
     "output_type": "display_data"
    }
   ],
   "source": [
    "plt.title('Поиск траектории') \n",
    "plt.xlabel('x') \n",
    "plt.ylabel('y')\n",
    "plt.axis()\n",
    "plt.scatter(solution_runge_kutta_4[1], solution_runge_kutta_4[2], s = 1) \n",
    "plt.scatter(solution_runge_kutta_4_2[1], solution_runge_kutta_4_2[2], s = 1)\n",
    "plt.legend(('Из правого седла в левое','Фокус в центре'))\n",
    "plt.show()"
   ]
  },
  {
   "cell_type": "markdown",
   "id": "aerial-productivity",
   "metadata": {},
   "source": [
    "#### 1) Видно, что попасть в одну особую точку из другой невозможно. 2) Время движения по сепаратриссе не может быть конечным, так как из известного решения изначального уравнения следует, что точка (0,0) достигается за бесконечное время.  С другой стороны, численный метод попадёт в (0,0) за конечное время из-за конечной арифметики."
   ]
  }
 ],
 "metadata": {
  "kernelspec": {
   "display_name": "Python 3",
   "language": "python",
   "name": "python3"
  },
  "language_info": {
   "codemirror_mode": {
    "name": "ipython",
    "version": 3
   },
   "file_extension": ".py",
   "mimetype": "text/x-python",
   "name": "python",
   "nbconvert_exporter": "python",
   "pygments_lexer": "ipython3",
   "version": "3.8.5"
  }
 },
 "nbformat": 4,
 "nbformat_minor": 5
}
